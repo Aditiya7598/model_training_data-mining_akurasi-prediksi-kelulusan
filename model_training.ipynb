{
 "cells": [
  {
   "cell_type": "markdown",
   "metadata": {},
   "source": [
    "<h2 align=\"center\">PREPROCESSING DATA</h2>\n",
    "\n",
    "1. untuk data x menggunakan data yang bersifat numerik dan kategorik \n",
    "2. dengan menggunakan data Y berupa data kelulusan (numerik) yaitu lama masa studi mahasiswa dengan jumlah bulan tepat waktu (<= 48 bulan) dan tidak tepat waktu(>48 bulan)\n"
   ]
  },
  {
   "cell_type": "code",
   "execution_count": 4,
   "metadata": {},
   "outputs": [],
   "source": [
    "# Part 1 - Data Preprocessing\n",
    "import pandas as pd\n",
    "import numpy as np\n",
    "from matplotlib import pyplot as plt\n",
    "from sklearn.impute import SimpleImputer\n",
    "\n",
    "#Import file data mahasiswa\n",
    "csvData = pd.read_csv('DATA_TRAINING_ALUMNI_LAMASTUDI 2014 - 2016.csv')\n",
    "\n",
    "#Pemilihan Data (Data Selection) \n",
    "csvData.drop(columns=['id_training','nama','fakultas','program_studi','nim','tahun_angkatan','status_kelulusan'], axis = 0, inplace = True)\n",
    "\n",
    "X = csvData.iloc[:,:-1]\n",
    "y = csvData.iloc[:,-1]\n",
    "\n",
    "#TRANSFORMASI DATA\n",
    "# Mengubah Data kategori ke Data numerik \n",
    "data2 = ['sumber_biaya']\n",
    "def biaya(x):\n",
    "    return x.map({\"Reguler\": 1, \"Bidikmisi\": 0})\n",
    "\n",
    "X[data2] = X[data2].apply(biaya)\n",
    "\n",
    "data3 = ['jenis_kelamin']\n",
    "def jeniskelamin(x):\n",
    "    return x.map({\"Perempuan\": 1, \"Laki-Laki\": 0})\n",
    "\n",
    "X[data3] = X[data3].apply(jeniskelamin)\n",
    "\n",
    "data4 = ['ket_jalur_masuk']\n",
    "def jalurmasuk(x):\n",
    "    return x.map({\"SNMPTN\": 0, \"SBMPTN\": 1, \"SM\": 2})\n",
    "\n",
    "X[data4] = X[data4].apply(jalurmasuk)\n",
    "\n",
    "data5 = ['sekolah_asal']\n",
    "def asalsekolah(x):\n",
    "    return x.map({\"SMA\": 0, \"SMK\": 1, \"MA\": 2})\n",
    "\n",
    "X[data5] = X[data5].apply(asalsekolah)\n",
    "\n",
    "# MERUBAH NILAI KOSONG(NaN) PADA ATRIBUT TABEL DATA  dengan mengganti menjadi nilai mean\n",
    "imputer = SimpleImputer(missing_values=np.nan,strategy='mean')\n",
    "imputer = imputer.fit_transform(X.values.reshape(-1,1))[:,:]\n",
    "\n",
    "# Membagi data mahasiswa untuk data training dan testing\n",
    "from sklearn.model_selection import train_test_split\n",
    "X_train, X_test, y_train, y_test = train_test_split(X, y, test_size = 0.2, random_state=1)"
   ]
  },
  {
   "cell_type": "markdown",
   "metadata": {},
   "source": [
    "<h2 align=\"center\">Multiple Linear Regression</h2>"
   ]
  },
  {
   "cell_type": "code",
   "execution_count": 5,
   "metadata": {},
   "outputs": [
    {
     "name": "stdout",
     "output_type": "stream",
     "text": [
      "Mean Absolute Percentage Error: 7.06247831514982\n",
      "Mean Squared Error: 23.348556269121097\n",
      "Root Mean Squared Error: 4.832034382030109\n"
     ]
    }
   ],
   "source": [
    "# Data Mining - Membuat prediksi MLR dengan library sklearn\n",
    "from sklearn.linear_model import LinearRegression\n",
    "model_mlr = LinearRegression()\n",
    "model_mlr.fit(X_train, y_train)\n",
    " \n",
    "y_pred_mlr = model_mlr.predict(X_test)\n",
    "\n",
    "# Evaluasi (Pengujian Peramalan)\n",
    "from sklearn import metrics\n",
    "print('Mean Absolute Percentage Error:', metrics.mean_absolute_percentage_error(y_test, y_pred_mlr)*100)\n",
    "print('Mean Squared Error:', metrics.mean_squared_error(y_test, y_pred_mlr))\n",
    "print('Root Mean Squared Error:', np.sqrt(metrics.mean_squared_error(y_test, y_pred_mlr)))\n",
    "\n",
    "# save model\n",
    "import pickle\n",
    "pickle.dump(model_mlr,open(\"multiple_regression_model.pkl\",\"wb\"))"
   ]
  },
  {
   "cell_type": "markdown",
   "metadata": {},
   "source": [
    "<h2 align=\"center\">Artificial Neural Network</h2>"
   ]
  },
  {
   "cell_type": "code",
   "execution_count": 6,
   "metadata": {},
   "outputs": [
    {
     "name": "stdout",
     "output_type": "stream",
     "text": [
      "Mean Absolute Percentage Error: 7.08433317720343\n",
      "Mean Squared Error: 23.593758277320084\n",
      "Root Mean Squared Error: 4.857340658973806\n"
     ]
    }
   ],
   "source": [
    "# Data Mining - Membuat prediksi ANN dengan library sklearn\n",
    "from sklearn.neural_network import MLPRegressor\n",
    "mpl = MLPRegressor(hidden_layer_sizes=(10), activation='relu', solver='adam', learning_rate_init = 0.001, max_iter=1000, random_state=1)\n",
    "mpl.fit(X_train, y_train.values.ravel())\n",
    "\n",
    "y_pred_ann = mpl.predict(X_test)\n",
    "\n",
    "# Evaluasi (Pengujian Peramalan)\n",
    "from sklearn import metrics\n",
    "print('Mean Absolute Percentage Error:', metrics.mean_absolute_percentage_error(y_test, y_pred_ann)*100)\n",
    "print('Mean Squared Error:', metrics.mean_squared_error(y_test, y_pred_ann))\n",
    "print('Root Mean Squared Error:', np.sqrt(metrics.mean_squared_error(y_test, y_pred_ann)))\n",
    "\n",
    "# save model\n",
    "import pickle\n",
    "pickle.dump(mpl,open( \"neural_network_model.pkl\",\"wb\"))"
   ]
  }
 ],
 "metadata": {
  "kernelspec": {
   "display_name": "Python 3.10.5 64-bit",
   "language": "python",
   "name": "python3"
  },
  "language_info": {
   "codemirror_mode": {
    "name": "ipython",
    "version": 3
   },
   "file_extension": ".py",
   "mimetype": "text/x-python",
   "name": "python",
   "nbconvert_exporter": "python",
   "pygments_lexer": "ipython3",
   "version": "3.10.5"
  },
  "orig_nbformat": 4,
  "vscode": {
   "interpreter": {
    "hash": "fb4569285eef3a3450cb62085a5b1e0da4bce0af555edc33dcf29baf3acc1368"
   }
  }
 },
 "nbformat": 4,
 "nbformat_minor": 2
}
