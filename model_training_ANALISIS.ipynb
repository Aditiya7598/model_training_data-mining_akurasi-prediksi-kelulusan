{
 "cells": [
  {
   "cell_type": "markdown",
   "metadata": {},
   "source": [
    "<h2 align=\"center\">PREPROCESSING DATA</h2>\n",
    "\n",
    "1. untuk data x menggunakan data yang bersifat numerik dan kategorik \n",
    "2. dengan menggunakan data Y berupa data kelulusan (numerik) yaitu lama masa studi mahasiswa dengan jumlah bulan tepat waktu (<= 48 bulan) dan tidak tepat waktu(>48 bulan)\n"
   ]
  },
  {
   "cell_type": "code",
   "execution_count": null,
   "metadata": {},
   "outputs": [],
   "source": [
    "# Part 1 - Data Preprocessing\n",
    "\n",
    "import pandas as pd\n",
    "import numpy as np\n",
    "from matplotlib import pyplot as plt\n",
    "from sklearn.impute import SimpleImputer\n",
    "import seaborn as sns\n",
    "\n",
    "# CVS Column Names\n",
    "col_names = ['id_training','fakultas', 'program_studi', 'nim', 'nama', 'tahun_angkatan', 'jenis_kelamin', 'ips1', 'ips2', 'ips3', 'ips4', 'ips5', 'ips6', 'ipk', 'sumber_biaya', 'ket_jalur_masuk', 'sekolah_asal','lama_studi', 'status_kelulusan']\n",
    "             \n",
    "#Import file data mahasiswa\n",
    "csvData = pd.read_csv('DATA_TRAINING_ALUMNI_LAMASTUDI 2014 - 2016 M.csv',names=col_names)\n",
    "print(csvData)"
   ]
  },
  {
   "cell_type": "code",
   "execution_count": null,
   "metadata": {},
   "outputs": [],
   "source": [
    "#integrasi data\n",
    "csvData.drop(columns=['id_training','nama','fakultas','program_studi','nim','tahun_angkatan','status_kelulusan'], axis = 0, inplace = True)\n",
    "\n",
    "print(csvData)"
   ]
  },
  {
   "cell_type": "code",
   "execution_count": null,
   "metadata": {},
   "outputs": [],
   "source": [
    "#TRANSFORMASI DATA\n",
    "#mengubah kategori ke numerik \n",
    "data2 = ['sumber_biaya']\n",
    "def biaya(x):\n",
    "    return x.map({\"Reguler\": 1, \"Bidikmisi\": 0})\n",
    "\n",
    "csvData[data2] = csvData[data2].apply(biaya)\n",
    "\n",
    "data3 = ['jenis_kelamin']\n",
    "def jeniskelamin(x):\n",
    "    return x.map({\"Perempuan\": 1, \"Laki-Laki\": 0})\n",
    "\n",
    "csvData[data3] = csvData[data3].apply(jeniskelamin)\n",
    "\n",
    "data4 = ['ket_jalur_masuk']\n",
    "def jalurmasuk(x):\n",
    "    return x.map({\"SNMPTN\": 0, \"SBMPTN\": 1, \"SM\": 2})\n",
    "\n",
    "csvData[data4] = csvData[data4].apply(jalurmasuk)\n",
    "\n",
    "data5 = ['sekolah_asal']\n",
    "def asalsekolah(x):\n",
    "    return x.map({\"SMA\": 0, \"SMK\": 1, \"MA\": 2})\n",
    "\n",
    "csvData[data5] = csvData[data5].apply(asalsekolah)\n",
    "\n",
    "#MERUBAH NILAI KOSONG(NaN) PADA ATRIBUT TABEL DATA  dengan mengganti menjadi nilai mean\n",
    "imputer = SimpleImputer(missing_values=np.nan,strategy='mean')\n",
    "imputer = imputer.fit_transform(csvData.values.reshape(-1,1))[:,:]\n",
    "#ket : \n",
    "# missing_values = nilai data yang digunakan sebagai penanda bahwa nilai asli tidak ada(missing); dalam hal ini Nan (np.nan)\n",
    "# stategy = dalam hal ini rata - rata kolom ('mean'), bisa juga menggunakan 'median', 'most_frequent'(modus) atau 'constant'\n",
    "\n",
    "X = csvData.iloc[:,:-1]\n",
    "y = csvData.iloc[:,-1]\n",
    "\n",
    "print(X)\n",
    "print(y)\n",
    "print(len(X))\n",
    "print(X)\n",
    "print(y)"
   ]
  },
  {
   "cell_type": "code",
   "execution_count": null,
   "metadata": {},
   "outputs": [],
   "source": [
    "# Membagi data mahasiswa untuk data training dan testing (80 : 20)\n",
    "from sklearn.model_selection import train_test_split\n",
    "X_train, X_test, y_train, y_test = train_test_split(X, y, test_size = 0.2, random_state=1)"
   ]
  },
  {
   "cell_type": "markdown",
   "metadata": {},
   "source": [
    "<h2 align=\"center\">Multiple Linear Regression</h2>"
   ]
  },
  {
   "cell_type": "code",
   "execution_count": null,
   "metadata": {},
   "outputs": [],
   "source": [
    "# Data Mining - Membuat prediksi MLR! dengan library sklearn\n",
    "from sklearn.linear_model import LinearRegression\n",
    "model_mlr = LinearRegression()\n",
    "model_mlr.fit(X_train, y_train)\n",
    "\n",
    "# Hasil Prediksi dengan MLR\n",
    "y_pred_mlr = model_mlr.predict(X_test)\n",
    "print(y_pred_mlr)"
   ]
  },
  {
   "cell_type": "markdown",
   "metadata": {},
   "source": [
    "<h2 align=\"center\">Multiple Linear Regression</h2>"
   ]
  },
  {
   "cell_type": "code",
   "execution_count": null,
   "metadata": {},
   "outputs": [],
   "source": [
    "# Evaluasi (Pengujian Peramalan) MLR\n",
    "from sklearn import metrics\n",
    "print('Mean Absolute Percentage Error:', metrics.mean_absolute_percentage_error(y_test, y_pred_mlr)*100)\n",
    "print('Mean Squared Error:', metrics.mean_squared_error(y_pred_mlr,y_test))\n",
    "print('Root Mean Squared Error:', np.sqrt(metrics.mean_squared_error(y_test, y_pred_mlr)))"
   ]
  },
  {
   "cell_type": "code",
   "execution_count": null,
   "metadata": {},
   "outputs": [],
   "source": [
    "#nilai koefisien (b) dan intercept(a)\n",
    "print(model_mlr.coef_)\n",
    "print(model_mlr.intercept_)"
   ]
  },
  {
   "cell_type": "markdown",
   "metadata": {},
   "source": [
    "<h2 align=\"center\">Artificial Neural Network</h2>"
   ]
  },
  {
   "cell_type": "code",
   "execution_count": null,
   "metadata": {},
   "outputs": [],
   "source": [
    "# Data Mining - Membuat prediksi ANN! dengan library sklearn\n",
    "from sklearn.neural_network import MLPRegressor\n",
    "mpl = MLPRegressor(hidden_layer_sizes=(10), activation='relu', solver='adam', learning_rate_init = 0.001, max_iter=1000, random_state=1).fit(X_train, y_train)\n",
    "\n",
    "# Hasil Prediksi dengan ANN\n",
    "y_pred_ann = mpl.predict(X_test)\n",
    "print(y_pred_ann)"
   ]
  },
  {
   "cell_type": "markdown",
   "metadata": {},
   "source": [
    "<h2 align=\"center\">Artificial Neural Network</h2>"
   ]
  },
  {
   "cell_type": "code",
   "execution_count": null,
   "metadata": {},
   "outputs": [],
   "source": [
    "# Evaluasi (Pengujian Peramalan) ANN\n",
    "from sklearn import metrics\n",
    "print('Mean Absolute Percentage Error:', metrics.mean_absolute_percentage_error(y_test, y_pred_ann)*100)\n",
    "print('Mean Squared Error:', metrics.mean_squared_error(y_test, y_pred_ann))\n",
    "print('Root Mean Squared Error:', np.sqrt(metrics.mean_squared_error(y_test, y_pred_ann)))"
   ]
  },
  {
   "cell_type": "code",
   "execution_count": null,
   "metadata": {},
   "outputs": [],
   "source": [
    "print('R2 score MLR:', np.sqrt(metrics.r2_score(y_test, y_pred_mlr)))\n",
    "print('R2 score ANN:', np.sqrt(metrics.r2_score(y_test, y_pred_ann)))"
   ]
  },
  {
   "cell_type": "markdown",
   "metadata": {},
   "source": [
    "<h2 align=\"center\">PERBANDINGAN</h2>"
   ]
  },
  {
   "cell_type": "code",
   "execution_count": null,
   "metadata": {},
   "outputs": [],
   "source": [
    "# Perbandingan Hasil Nilai Prediksi MLR, ANN dan Dengan Data Actual (Asli)\n",
    "df_ann = pd.DataFrame({'MLR':y_pred_mlr,'ANN':y_pred_ann,'Actual':y_test})\n",
    "print(df_ann)"
   ]
  },
  {
   "cell_type": "code",
   "execution_count": null,
   "metadata": {},
   "outputs": [],
   "source": [
    "#Plot KDE Data Actual vs Hasil Prediksi MLR vs Hasil Prediksi ANN\n",
    "sns.kdeplot(data= y_test, shade = True, label = \"Data Actual\")\n",
    "sns.kdeplot(data= y_pred_mlr, shade = True, label = \"Hasil Prediksi MLR\")\n",
    "sns.kdeplot(data=y_pred_ann, shade = True, label = \"Hasil Prediksi ANN\")\n",
    "plt.legend()"
   ]
  },
  {
   "cell_type": "code",
   "execution_count": null,
   "metadata": {},
   "outputs": [],
   "source": [
    "#Import file data mahasiswa\n",
    "plt.plot(y_pred_mlr)\n",
    "plt.plot(y_pred_ann)\n",
    "plt.xlabel('jumlah data')\n",
    "plt.ylabel('lama studi')\n",
    "plt.title('perbandingan hasil prediksi ann dan mlr')\n",
    "plt.grid(True)\n",
    "plt.legend(labels=('MLR','ANN'))\n",
    "plt.show"
   ]
  },
  {
   "cell_type": "code",
   "execution_count": null,
   "metadata": {},
   "outputs": [],
   "source": [
    "# Import file data mahasiswa\n",
    "data_actual = y_test\n",
    "data_actual.to_csv(\"data_actual1.csv\")\n",
    "Data_actual = pd.read_csv('data_actual1.csv')\n",
    "plt.plot(Data_actual['lama_studi'])\n",
    "plt.plot(y_pred_mlr)\n",
    "plt.plot(y_pred_ann)\n",
    "plt.xlabel('jumlah data')\n",
    "plt.ylabel('lama studi')\n",
    "plt.title('perbandingan hasil prediksi actual, ann dan mlr')\n",
    "plt.grid(True)\n",
    "plt.legend(labels=('Actual','MLR','ANN'))\n",
    "plt.show"
   ]
  },
  {
   "cell_type": "markdown",
   "metadata": {},
   "source": [
    "<h2 align=\"center\">RASIO 70:30</h2>"
   ]
  },
  {
   "cell_type": "code",
   "execution_count": null,
   "metadata": {},
   "outputs": [],
   "source": [
    "# Membagi data mahasiswa untuk data training dan testing (70 : 30)\n",
    "from sklearn.model_selection import train_test_split\n",
    "X_train1, X_test1, y_train1, y_test1 = train_test_split(X, y, test_size = 0.3, random_state=1)\n",
    "print(len(X_train1))\n",
    "print(len(y_train1))\n",
    "print(len(X_test1))\n",
    "print(len(y_test1))\n",
    "\n",
    "# Data Mining - Membuat prediksi MLR! dengan library sklearn\n",
    "from sklearn.linear_model import LinearRegression\n",
    "model_mlr = LinearRegression()\n",
    "model_mlr.fit(X_train1, y_train1)\n",
    "\n",
    "# Hasil Prediksi dengan MLR\n",
    "y_pred_mlr1 = model_mlr.predict(X_test1)\n",
    "print(y_pred_mlr1)\n",
    "\n",
    "# Data Mining - Membuat prediksi ANN! dengan library sklearn\n",
    "from sklearn.neural_network import MLPRegressor\n",
    "mpl = MLPRegressor(hidden_layer_sizes=(10), activation='relu', solver='adam', learning_rate_init = 0.001, max_iter=1000, random_state=1).fit(X_train1, y_train1)\n",
    "\n",
    "# Hasil Prediksi dengan ANN\n",
    "y_pred_ann1 = mpl.predict(X_test1)\n",
    "print(y_pred_ann1)"
   ]
  },
  {
   "cell_type": "markdown",
   "metadata": {},
   "source": [
    "<h2 align=\"center\">RASIO 60:40</h2>"
   ]
  },
  {
   "cell_type": "code",
   "execution_count": null,
   "metadata": {},
   "outputs": [],
   "source": [
    "# Membagi data mahasiswa untuk data training dan testing (60 : 40)\n",
    "from sklearn.model_selection import train_test_split\n",
    "X_train2, X_test2, y_train2, y_test2 = train_test_split(X, y, test_size = 0.4, random_state=1)\n",
    "print(len(X_train2))\n",
    "print(len(y_train2))\n",
    "print(len(X_test2))\n",
    "print(len(y_test2))\n",
    "\n",
    "# Data Mining - Membuat prediksi MLR! dengan library sklearn\n",
    "from sklearn.linear_model import LinearRegression\n",
    "model_mlr = LinearRegression()\n",
    "model_mlr.fit(X_train2, y_train2)\n",
    "\n",
    "# Hasil Prediksi dengan MLR\n",
    "y_pred_mlr2 = model_mlr.predict(X_test2)\n",
    "print(y_pred_mlr2)\n",
    "\n",
    "# Data Mining - Membuat prediksi ANN! dengan library sklearn\n",
    "from sklearn.neural_network import MLPRegressor\n",
    "mpl = MLPRegressor(hidden_layer_sizes=(10), activation='relu', solver='adam', learning_rate_init = 0.001, max_iter=1000, random_state=1).fit(X_train2, y_train2)\n",
    "\n",
    "# Hasil Prediksi dengan ANN\n",
    "y_pred_ann2 = mpl.predict(X_test2)\n",
    "print(y_pred_ann2)"
   ]
  },
  {
   "cell_type": "markdown",
   "metadata": {},
   "source": [
    "<h2 align=\"center\">RASIO 50:50</h2>"
   ]
  },
  {
   "cell_type": "code",
   "execution_count": null,
   "metadata": {},
   "outputs": [],
   "source": [
    "# Membagi data mahasiswa untuk data training dan testing (50 : 50)\n",
    "from sklearn.model_selection import train_test_split\n",
    "X_train3, X_test3, y_train3, y_test3 = train_test_split(X, y, test_size = 0.5, random_state=1)\n",
    "print(len(X_train3))\n",
    "print(len(y_train3))\n",
    "print(len(X_test3))\n",
    "print(len(y_test3))\n",
    "\n",
    "# Data Mining - Membuat prediksi MLR! dengan library sklearn\n",
    "from sklearn.linear_model import LinearRegression\n",
    "model_mlr = LinearRegression()\n",
    "model_mlr.fit(X_train3, y_train3)\n",
    "\n",
    "# Hasil Prediksi dengan MLR\n",
    "y_pred_mlr3 = model_mlr.predict(X_test3)\n",
    "print(y_pred_mlr3)\n",
    "\n",
    "# Data Mining - Membuat prediksi ANN! dengan library sklearn\n",
    "from sklearn.neural_network import MLPRegressor\n",
    "mpl = MLPRegressor(hidden_layer_sizes=(10), activation='relu', solver='adam', learning_rate_init = 0.001, max_iter=1000, random_state=1).fit(X_train3, y_train3)\n",
    "\n",
    "# Hasil Prediksi dengan ANN\n",
    "y_pred_ann3 = mpl.predict(X_test3)\n",
    "print(y_pred_ann3)"
   ]
  },
  {
   "cell_type": "markdown",
   "metadata": {},
   "source": [
    "<h2 align=\"center\">PERBANDINGAN</h2>"
   ]
  },
  {
   "cell_type": "code",
   "execution_count": null,
   "metadata": {},
   "outputs": [],
   "source": [
    "# Evaluasi (Pengujian Peramalan) ANN\n",
    "from sklearn import metrics\n",
    "print('80:20 (Mean Absolute Percentage Error):', metrics.mean_absolute_percentage_error(y_test, y_pred_ann)*100)\n",
    "print('70:30 (Mean Absolute Percentage Error):', metrics.mean_absolute_percentage_error(y_test1, y_pred_ann1)*100)\n",
    "print('60:40 (Mean Absolute Percentage Error):', metrics.mean_absolute_percentage_error(y_test2, y_pred_ann2)*100)\n",
    "print('50:50 (Mean Absolute Percentage Error):', metrics.mean_absolute_percentage_error(y_test3, y_pred_ann3)*100)\n",
    "\n",
    "print('80:20 (Mean Squared Error):', metrics.mean_squared_error(y_test, y_pred_ann))\n",
    "print('70:30 (Mean Squared Error):', metrics.mean_squared_error(y_test1, y_pred_ann1))\n",
    "print('60:40 (Mean Squared Error):', metrics.mean_squared_error(y_test2, y_pred_ann2))\n",
    "print('50:50 (Mean Squared Error):', metrics.mean_squared_error(y_test3, y_pred_ann3))\n",
    "\n",
    "print('80:20 (Root Mean Squared Error):', np.sqrt(metrics.mean_squared_error(y_test, y_pred_ann)))\n",
    "print('70:30 (Root Mean Squared Error):', np.sqrt(metrics.mean_squared_error(y_test1, y_pred_ann1)))\n",
    "print('60:40 (Root Mean Squared Error):', np.sqrt(metrics.mean_squared_error(y_test2, y_pred_ann2)))\n",
    "print('50;50 (Root Mean Squared Error):', np.sqrt(metrics.mean_squared_error(y_test3, y_pred_ann3)))"
   ]
  },
  {
   "cell_type": "code",
   "execution_count": null,
   "metadata": {},
   "outputs": [],
   "source": [
    "# Evaluasi (Pengujian Peramalan) MLR\n",
    "from sklearn import metrics\n",
    "print('80:20 (Mean Absolute Percentage Error):', metrics.mean_absolute_percentage_error(y_test, y_pred_mlr)*100)\n",
    "print('70:30 (Mean Absolute Percentage Error):', metrics.mean_absolute_percentage_error(y_test1, y_pred_mlr1)*100)\n",
    "print('60:40 (Mean Absolute Percentage Error):', metrics.mean_absolute_percentage_error(y_test2, y_pred_mlr2)*100)\n",
    "print('50:50 (Mean Absolute Percentage Error):', metrics.mean_absolute_percentage_error(y_test3, y_pred_mlr3)*100)\n",
    "\n",
    "print('80:20 (Mean Squared Error):', metrics.mean_squared_error(y_pred_mlr,y_test))\n",
    "print('70:30 (Mean Squared Error):', metrics.mean_squared_error(y_pred_mlr1,y_test1))\n",
    "print('60:40 (Mean Squared Error):', metrics.mean_squared_error(y_pred_mlr2,y_test2))\n",
    "print('50:50 (Mean Squared Error):', metrics.mean_squared_error(y_pred_mlr3,y_test3))\n",
    "\n",
    "print('80:20 (Root Mean Squared Error):', np.sqrt(metrics.mean_squared_error(y_test, y_pred_mlr)))\n",
    "print('70:30 (Root Mean Squared Error):', np.sqrt(metrics.mean_squared_error(y_test1, y_pred_mlr1)))\n",
    "print('60:40 (Root Mean Squared Error):', np.sqrt(metrics.mean_squared_error(y_test2, y_pred_mlr2)))\n",
    "print('50:50 (Root Mean Squared Error):', np.sqrt(metrics.mean_squared_error(y_test3, y_pred_mlr3)))"
   ]
  },
  {
   "cell_type": "markdown",
   "metadata": {},
   "source": [
    "<h2 align=\"center\">Memuat dataset dan melakukan eksplorasi dasar untuk mendapatkan ide tentang dataset</h2>"
   ]
  },
  {
   "cell_type": "code",
   "execution_count": null,
   "metadata": {},
   "outputs": [],
   "source": [
    "print(csvData.head())\n",
    "print(csvData.info())\n",
    "print(csvData.shape)\n",
    "print(csvData.isnull())\n",
    "print(csvData.isnull().sum())\n",
    "print(csvData.isna().sum())\n",
    "print(csvData.describe())"
   ]
  },
  {
   "cell_type": "code",
   "execution_count": null,
   "metadata": {},
   "outputs": [],
   "source": [
    "#JUMLAH DATA\n",
    "print(len(csvData))\n",
    "print(len(X_train))\n",
    "print(len(y_train))\n",
    "print(len(X_test))\n",
    "print(len(y_test))\n",
    "print(len(y_pred_mlr))\n",
    "print(len(y_pred_ann))"
   ]
  },
  {
   "cell_type": "markdown",
   "metadata": {},
   "source": [
    "### Exploratory Data Analysis"
   ]
  },
  {
   "cell_type": "code",
   "execution_count": null,
   "metadata": {},
   "outputs": [],
   "source": [
    "sns.distplot(csvData.jenis_kelamin)"
   ]
  },
  {
   "cell_type": "code",
   "execution_count": null,
   "metadata": {},
   "outputs": [],
   "source": [
    "sns.distplot(csvData.ips1)"
   ]
  },
  {
   "cell_type": "code",
   "execution_count": null,
   "metadata": {},
   "outputs": [],
   "source": [
    "sns.distplot(csvData.ips2)"
   ]
  },
  {
   "cell_type": "code",
   "execution_count": null,
   "metadata": {},
   "outputs": [],
   "source": [
    "sns.distplot(csvData.ips3);"
   ]
  },
  {
   "cell_type": "code",
   "execution_count": null,
   "metadata": {},
   "outputs": [],
   "source": [
    "sns.distplot(csvData.ips4)"
   ]
  },
  {
   "cell_type": "code",
   "execution_count": null,
   "metadata": {},
   "outputs": [],
   "source": [
    "sns.distplot(csvData.ips5)"
   ]
  },
  {
   "cell_type": "code",
   "execution_count": null,
   "metadata": {},
   "outputs": [],
   "source": [
    "sns.distplot(csvData.ips6)"
   ]
  },
  {
   "cell_type": "code",
   "execution_count": null,
   "metadata": {},
   "outputs": [],
   "source": [
    "sns.distplot(csvData.ipk)"
   ]
  },
  {
   "cell_type": "code",
   "execution_count": null,
   "metadata": {},
   "outputs": [],
   "source": [
    "sns.distplot(csvData.sumber_biaya)"
   ]
  },
  {
   "cell_type": "code",
   "execution_count": null,
   "metadata": {},
   "outputs": [],
   "source": [
    "sns.distplot(csvData.ket_jalur_masuk)"
   ]
  },
  {
   "cell_type": "code",
   "execution_count": null,
   "metadata": {},
   "outputs": [],
   "source": [
    "sns.distplot(csvData.sekolah_asal)"
   ]
  },
  {
   "cell_type": "code",
   "execution_count": null,
   "metadata": {},
   "outputs": [],
   "source": [
    "sns.distplot(csvData.lama_studi)"
   ]
  },
  {
   "cell_type": "code",
   "execution_count": null,
   "metadata": {},
   "outputs": [],
   "source": [
    "sns.pairplot(csvData, x_vars=['jenis_kelamin','ips1','ips2','ips3','ips4','ips5','ips6','ipk','sumber_biaya','ket_jalur_masuk','sekolah_asal'], y_vars='lama_studi', height=7, aspect=0.7);"
   ]
  },
  {
   "cell_type": "code",
   "execution_count": null,
   "metadata": {},
   "outputs": [],
   "source": [
    "csvData.corr()"
   ]
  },
  {
   "cell_type": "code",
   "execution_count": null,
   "metadata": {},
   "outputs": [],
   "source": [
    "sns.heatmap( csvData.corr(), annot=True )"
   ]
  },
  {
   "cell_type": "code",
   "execution_count": null,
   "metadata": {},
   "outputs": [],
   "source": [
    "print('R2 score MLR 80:20:', np.sqrt(metrics.r2_score(y_test, y_pred_mlr)))\n",
    "print('R2 score ANN 80:20:', np.sqrt(metrics.r2_score(y_test, y_pred_ann)))\n",
    "print('R2 score MLR 70:30:', np.sqrt(metrics.r2_score(y_test1, y_pred_mlr1)))\n",
    "print('R2 score ANN 70:30:', np.sqrt(metrics.r2_score(y_test1, y_pred_ann1)))\n",
    "print('R2 score MLR 60:40:', np.sqrt(metrics.r2_score(y_test2, y_pred_mlr2)))\n",
    "print('R2 score ANN 60:40:', np.sqrt(metrics.r2_score(y_test2, y_pred_ann2)))\n",
    "print('R2 score MLR 50:50:', np.sqrt(metrics.r2_score(y_test3, y_pred_mlr3)))\n",
    "print('R2 score ANN 50:50:', np.sqrt(metrics.r2_score(y_test3, y_pred_ann3)))"
   ]
  },
  {
   "cell_type": "code",
   "execution_count": null,
   "metadata": {},
   "outputs": [],
   "source": [
    "print('Mean Absolute Error MLR 80:20:', metrics.mean_absolute_error(y_test, y_pred_mlr))\n",
    "print('Mean Absolute Error ANN 80:20:', metrics.mean_absolute_error(y_test, y_pred_ann))\n",
    "print('Mean Absolute Error MLR 70:30:', metrics.mean_absolute_error(y_test1, y_pred_mlr1))\n",
    "print('Mean Absolute Error ANN 70:30:', metrics.mean_absolute_error(y_test1, y_pred_ann1))\n",
    "print('Mean Absolute Error MLR 60:40:', metrics.mean_absolute_error(y_test2, y_pred_mlr2))\n",
    "print('Mean Absolute Error ANN 60:40:', metrics.mean_absolute_error(y_test2, y_pred_ann2))\n",
    "print('Mean Absolute Error MLR 50:50:', metrics.mean_absolute_error(y_test3, y_pred_mlr3))\n",
    "print('Mean Absolute Error ANN 50:50:', metrics.mean_absolute_error(y_test3, y_pred_ann3))"
   ]
  },
  {
   "cell_type": "code",
   "execution_count": null,
   "metadata": {},
   "outputs": [],
   "source": [
    "print('explained_variance_score MLR 80:20:', metrics.explained_variance_score(y_test, y_pred_mlr))\n",
    "print('max_error MLR 80:20:', metrics.max_error(y_test, y_pred_mlr))\n",
    "print('mean_absolute_error MLR 80:20:', metrics.mean_absolute_error(y_test, y_pred_mlr))\n",
    "print('mean_squared_error MLR 80:20:', metrics.mean_squared_error(y_test, y_pred_mlr))\n",
    "print('mean_squared_log_error MLR 80:20:', metrics.mean_squared_log_error(y_test, y_pred_mlr))\n",
    "print('median_absolute_error MLR 80:20:', metrics.median_absolute_error(y_test, y_pred_mlr))\n",
    "print('mean_absolute_percentage_error MLR 80:20:', metrics.mean_absolute_percentage_error(y_test, y_pred_mlr))\n",
    "print('R2 score MLR 80:20:', metrics.r2_score(y_test, y_pred_mlr))\n",
    "print('mean_poisson_deviance MLR 80:20:', metrics.mean_poisson_deviance(y_test, y_pred_mlr))\n",
    "print('mean_gamma_deviance MLR 80:20:', metrics.mean_gamma_deviance(y_test, y_pred_mlr))\n",
    "print('mean_tweedie_deviance MLR 80:20:', metrics.mean_tweedie_deviance(y_test, y_pred_mlr))\n",
    "print('d2_tweedie_score MLR 80:20:', metrics.d2_tweedie_score(y_test, y_pred_mlr))\n",
    "print('mean_pinball_loss MLR 80:20:', metrics.mean_pinball_loss(y_test, y_pred_mlr))\n",
    "print('d2_pinball_score MLR 80:20:', metrics.d2_pinball_score(y_test, y_pred_mlr))\n",
    "print('d2_absolute_error_score MLR 80:20:', metrics.d2_absolute_error_score(y_test, y_pred_mlr))"
   ]
  },
  {
   "cell_type": "code",
   "execution_count": null,
   "metadata": {},
   "outputs": [],
   "source": [
    "print('explained_variance_score MLR 80:20:', metrics.explained_variance_score(y_test, y_pred_ann))\n",
    "print('max_error MLR 80:20:', metrics.max_error(y_test, y_pred_ann))\n",
    "print('mean_absolute_error MLR 80:20:', metrics.mean_absolute_error(y_test, y_pred_ann))\n",
    "print('mean_squared_error MLR 80:20:', metrics.mean_squared_error(y_test, y_pred_ann))\n",
    "print('mean_squared_log_error MLR 80:20:', metrics.mean_squared_log_error(y_test, y_pred_ann))\n",
    "print('median_absolute_error MLR 80:20:', metrics.median_absolute_error(y_test, y_pred_ann))\n",
    "print('mean_absolute_percentage_error MLR 80:20:', metrics.mean_absolute_percentage_error(y_test, y_pred_ann))\n",
    "print('R2 score MLR 80:20:', metrics.r2_score(y_test, y_pred_ann))\n",
    "print('mean_poisson_deviance MLR 80:20:', metrics.mean_poisson_deviance(y_test, y_pred_ann))\n",
    "print('mean_gamma_deviance MLR 80:20:', metrics.mean_gamma_deviance(y_test, y_pred_ann))\n",
    "print('mean_tweedie_deviance MLR 80:20:', metrics.mean_tweedie_deviance(y_test, y_pred_ann))\n",
    "print('d2_tweedie_score MLR 80:20:', metrics.d2_tweedie_score(y_test, y_pred_ann))\n",
    "print('mean_pinball_loss MLR 80:20:', metrics.mean_pinball_loss(y_test, y_pred_ann))\n",
    "print('d2_pinball_score MLR 80:20:', metrics.d2_pinball_score(y_test, y_pred_ann))\n",
    "print('d2_absolute_error_score MLR 80:20:', metrics.d2_absolute_error_score(y_test, y_pred_ann))"
   ]
  }
 ],
 "metadata": {
  "kernelspec": {
   "display_name": "Python 3.10.5 64-bit",
   "language": "python",
   "name": "python3"
  },
  "language_info": {
   "codemirror_mode": {
    "name": "ipython",
    "version": 3
   },
   "file_extension": ".py",
   "mimetype": "text/x-python",
   "name": "python",
   "nbconvert_exporter": "python",
   "pygments_lexer": "ipython3",
   "version": "3.10.5"
  },
  "orig_nbformat": 4,
  "vscode": {
   "interpreter": {
    "hash": "fb4569285eef3a3450cb62085a5b1e0da4bce0af555edc33dcf29baf3acc1368"
   }
  }
 },
 "nbformat": 4,
 "nbformat_minor": 2
}
